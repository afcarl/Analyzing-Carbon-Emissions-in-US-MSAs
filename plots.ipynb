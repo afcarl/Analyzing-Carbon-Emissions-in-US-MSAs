{
 "cells": [
  {
   "cell_type": "code",
   "execution_count": 1,
   "metadata": {
    "collapsed": false
   },
   "outputs": [],
   "source": [
    "import plotly.plotly as py\n",
    "import cufflinks as cf\n",
    "import pandas as pd\n",
    "import numpy as np\n",
    "from plotly.graph_objs import *"
   ]
  },
  {
   "cell_type": "code",
   "execution_count": 2,
   "metadata": {
    "collapsed": true
   },
   "outputs": [],
   "source": [
    "df = pd.read_csv('data/msa_analyzed.csv')\n",
    "df.drop(['Unnamed: 0'], axis=1, inplace=True)"
   ]
  },
  {
   "cell_type": "code",
   "execution_count": 4,
   "metadata": {
    "collapsed": false
   },
   "outputs": [],
   "source": [
    "for i in df.index:\n",
    "    temp = df['MSA Name'][i].split(',')\n",
    "    df.loc[i,'MSA Name'] = temp[0].split('-')[0]+', '+temp[1].split()[0]"
   ]
  },
  {
   "cell_type": "code",
   "execution_count": 4,
   "metadata": {
    "collapsed": true
   },
   "outputs": [],
   "source": [
    "df['Ptotal'] = df['Total']-df['Industrial']-df['Electricity Prod']"
   ]
  },
  {
   "cell_type": "code",
   "execution_count": 5,
   "metadata": {
    "collapsed": false
   },
   "outputs": [
    {
     "data": {
      "text/html": [
       "<iframe id=\"igraph\" scrolling=\"no\" style=\"border:none;\"seamless=\"seamless\" src=\"https://plot.ly/~fanshi118/50.embed\" height=\"525px\" width=\"100%\"></iframe>"
      ],
      "text/plain": [
       "<plotly.tools.PlotlyDisplay object>"
      ]
     },
     "execution_count": 5,
     "metadata": {},
     "output_type": "execute_result"
    }
   ],
   "source": [
    "trace1 = Bar(\n",
    "        x=df.head(10)['MSA Name'].tolist(),\n",
    "        y=df.head(10)['Industrial'].tolist(),\n",
    "        name='Industrial'\n",
    "    )\n",
    "trace2 = Bar(\n",
    "        x=df.head(10)['MSA Name'].tolist(),\n",
    "        y=df.head(10)['Electricity Prod'].tolist(),\n",
    "        name='Electricity Production'\n",
    "    )\n",
    "trace3 = Bar(\n",
    "        x=df.head(10)['MSA Name'].tolist(),\n",
    "        y=df.head(10)['Ptotal'].tolist(),\n",
    "        name='Others'\n",
    "    )\n",
    "\n",
    "data = [trace1,trace2,trace3]\n",
    "\n",
    "layout = Layout(\n",
    "    title='MSAs with least per capita carbon emissions',\n",
    "    yaxis=YAxis(title='Per capita carbon emissions (tons/person)'),\n",
    "    barmode='stack'\n",
    ")\n",
    "\n",
    "fig = Figure(data=data, layout=layout)\n",
    "\n",
    "py.iplot(fig, filename='Least MSAs')"
   ]
  },
  {
   "cell_type": "code",
   "execution_count": 6,
   "metadata": {
    "collapsed": true
   },
   "outputs": [],
   "source": [
    "df = df.sort(['Total'],ascending=False)"
   ]
  },
  {
   "cell_type": "code",
   "execution_count": 7,
   "metadata": {
    "collapsed": false
   },
   "outputs": [
    {
     "data": {
      "text/html": [
       "<iframe id=\"igraph\" scrolling=\"no\" style=\"border:none;\"seamless=\"seamless\" src=\"https://plot.ly/~fanshi118/60.embed\" height=\"525px\" width=\"100%\"></iframe>"
      ],
      "text/plain": [
       "<plotly.tools.PlotlyDisplay object>"
      ]
     },
     "execution_count": 7,
     "metadata": {},
     "output_type": "execute_result"
    }
   ],
   "source": [
    "trace1 = Bar(\n",
    "        x=df.head(10)['MSA Name'].tolist(),\n",
    "        y=df.head(10)['Industrial'].tolist(),\n",
    "        name='Industrial'\n",
    "    )\n",
    "trace2 = Bar(\n",
    "        x=df.head(10)['MSA Name'].tolist(),\n",
    "        y=df.head(10)['Electricity Prod'].tolist(),\n",
    "        name='Electricity Production'\n",
    "    )\n",
    "trace3 = Bar(\n",
    "        x=df.head(10)['MSA Name'].tolist(),\n",
    "        y=df.head(10)['Ptotal'].tolist(),\n",
    "        name='Others'\n",
    "    )\n",
    "\n",
    "data = [trace1,trace2,trace3]\n",
    "\n",
    "layout = Layout(\n",
    "    title='MSAs with most per capita carbon emissions',\n",
    "    yaxis=YAxis(title='Per capita carbon emissions (tons/person)'),\n",
    "    barmode='stack'\n",
    ")\n",
    "\n",
    "fig = Figure(data=data, layout=layout)\n",
    "\n",
    "py.iplot(fig, filename='Most MSAs')"
   ]
  },
  {
   "cell_type": "code",
   "execution_count": 6,
   "metadata": {
    "collapsed": false
   },
   "outputs": [
    {
     "data": {
      "text/html": [
       "<div>\n",
       "<table border=\"1\" class=\"dataframe\">\n",
       "  <thead>\n",
       "    <tr style=\"text-align: right;\">\n",
       "      <th></th>\n",
       "      <th>Total</th>\n",
       "      <th>Commercial</th>\n",
       "      <th>Industrial</th>\n",
       "      <th>Residential</th>\n",
       "      <th>Electricity Prod</th>\n",
       "      <th>Onroad</th>\n",
       "      <th>Cement</th>\n",
       "      <th>Aircraft</th>\n",
       "      <th>Airborne</th>\n",
       "      <th>Nonroad</th>\n",
       "      <th>POP2000</th>\n",
       "      <th>ALAND10</th>\n",
       "      <th>MSA Code</th>\n",
       "      <th>MSA Name</th>\n",
       "      <th>Density</th>\n",
       "      <th>POPlog</th>\n",
       "      <th>Totlog</th>\n",
       "      <th>Dlog</th>\n",
       "    </tr>\n",
       "  </thead>\n",
       "  <tbody>\n",
       "    <tr>\n",
       "      <th>22</th>\n",
       "      <td>2.407797</td>\n",
       "      <td>0.267478</td>\n",
       "      <td>0.062540</td>\n",
       "      <td>0.526058</td>\n",
       "      <td>0.493625</td>\n",
       "      <td>0.859972</td>\n",
       "      <td>0.000000</td>\n",
       "      <td>0.029102</td>\n",
       "      <td>0.073154</td>\n",
       "      <td>0.095868</td>\n",
       "      <td>18944519</td>\n",
       "      <td>21481.919090</td>\n",
       "      <td>35620</td>\n",
       "      <td>New York, NY-NJ-PA</td>\n",
       "      <td>881.882057</td>\n",
       "      <td>7.277484</td>\n",
       "      <td>0.381620</td>\n",
       "      <td>2.945411</td>\n",
       "    </tr>\n",
       "    <tr>\n",
       "      <th>12</th>\n",
       "      <td>2.154786</td>\n",
       "      <td>0.043950</td>\n",
       "      <td>0.435135</td>\n",
       "      <td>0.202748</td>\n",
       "      <td>0.192595</td>\n",
       "      <td>1.013999</td>\n",
       "      <td>0.000000</td>\n",
       "      <td>0.046903</td>\n",
       "      <td>0.117899</td>\n",
       "      <td>0.101556</td>\n",
       "      <td>12365627</td>\n",
       "      <td>12557.430730</td>\n",
       "      <td>31100</td>\n",
       "      <td>Los Angeles, CA</td>\n",
       "      <td>984.725878</td>\n",
       "      <td>7.092216</td>\n",
       "      <td>0.333404</td>\n",
       "      <td>2.993315</td>\n",
       "    </tr>\n",
       "    <tr>\n",
       "      <th>225</th>\n",
       "      <td>5.267402</td>\n",
       "      <td>0.297917</td>\n",
       "      <td>1.265312</td>\n",
       "      <td>0.586536</td>\n",
       "      <td>1.463000</td>\n",
       "      <td>1.079102</td>\n",
       "      <td>0.000000</td>\n",
       "      <td>0.127316</td>\n",
       "      <td>0.320031</td>\n",
       "      <td>0.128187</td>\n",
       "      <td>9098316</td>\n",
       "      <td>18639.638970</td>\n",
       "      <td>16980</td>\n",
       "      <td>Chicago, IL-IN-WI</td>\n",
       "      <td>488.116536</td>\n",
       "      <td>6.958961</td>\n",
       "      <td>0.721596</td>\n",
       "      <td>2.688524</td>\n",
       "    </tr>\n",
       "    <tr>\n",
       "      <th>86</th>\n",
       "      <td>3.082175</td>\n",
       "      <td>0.304719</td>\n",
       "      <td>0.518272</td>\n",
       "      <td>0.511665</td>\n",
       "      <td>0.464981</td>\n",
       "      <td>1.059529</td>\n",
       "      <td>0.000000</td>\n",
       "      <td>0.034789</td>\n",
       "      <td>0.087448</td>\n",
       "      <td>0.100773</td>\n",
       "      <td>5687147</td>\n",
       "      <td>11919.387230</td>\n",
       "      <td>37980</td>\n",
       "      <td>Philadelphia, PA-NJ-DE-MD</td>\n",
       "      <td>477.134176</td>\n",
       "      <td>6.754894</td>\n",
       "      <td>0.488857</td>\n",
       "      <td>2.678641</td>\n",
       "    </tr>\n",
       "    <tr>\n",
       "      <th>98</th>\n",
       "      <td>3.175412</td>\n",
       "      <td>0.228501</td>\n",
       "      <td>0.375614</td>\n",
       "      <td>0.169591</td>\n",
       "      <td>0.463891</td>\n",
       "      <td>1.354111</td>\n",
       "      <td>0.160405</td>\n",
       "      <td>0.074368</td>\n",
       "      <td>0.186938</td>\n",
       "      <td>0.161992</td>\n",
       "      <td>5161544</td>\n",
       "      <td>23122.123420</td>\n",
       "      <td>19100</td>\n",
       "      <td>Dallas, TX</td>\n",
       "      <td>223.229671</td>\n",
       "      <td>6.712780</td>\n",
       "      <td>0.501800</td>\n",
       "      <td>2.348752</td>\n",
       "    </tr>\n",
       "    <tr>\n",
       "      <th>30</th>\n",
       "      <td>2.543012</td>\n",
       "      <td>0.054800</td>\n",
       "      <td>0.254771</td>\n",
       "      <td>0.035435</td>\n",
       "      <td>0.572940</td>\n",
       "      <td>1.204436</td>\n",
       "      <td>0.070448</td>\n",
       "      <td>0.059688</td>\n",
       "      <td>0.150037</td>\n",
       "      <td>0.140456</td>\n",
       "      <td>5007564</td>\n",
       "      <td>13150.053280</td>\n",
       "      <td>33100</td>\n",
       "      <td>Miami, FL</td>\n",
       "      <td>380.801803</td>\n",
       "      <td>6.699627</td>\n",
       "      <td>0.405348</td>\n",
       "      <td>2.580699</td>\n",
       "    </tr>\n",
       "    <tr>\n",
       "      <th>132</th>\n",
       "      <td>3.631378</td>\n",
       "      <td>0.224571</td>\n",
       "      <td>0.194456</td>\n",
       "      <td>0.353612</td>\n",
       "      <td>1.216181</td>\n",
       "      <td>1.330886</td>\n",
       "      <td>0.007450</td>\n",
       "      <td>0.049505</td>\n",
       "      <td>0.124439</td>\n",
       "      <td>0.130278</td>\n",
       "      <td>4796183</td>\n",
       "      <td>14499.580790</td>\n",
       "      <td>47900</td>\n",
       "      <td>Washington, DC-VA-MD-WV</td>\n",
       "      <td>330.780804</td>\n",
       "      <td>6.680896</td>\n",
       "      <td>0.560071</td>\n",
       "      <td>2.519540</td>\n",
       "    </tr>\n",
       "    <tr>\n",
       "      <th>258</th>\n",
       "      <td>7.048771</td>\n",
       "      <td>0.204488</td>\n",
       "      <td>2.845313</td>\n",
       "      <td>0.146019</td>\n",
       "      <td>2.165567</td>\n",
       "      <td>1.318271</td>\n",
       "      <td>0.000000</td>\n",
       "      <td>0.058591</td>\n",
       "      <td>0.147279</td>\n",
       "      <td>0.163244</td>\n",
       "      <td>4715407</td>\n",
       "      <td>22863.087520</td>\n",
       "      <td>26420</td>\n",
       "      <td>Houston, TX</td>\n",
       "      <td>206.245416</td>\n",
       "      <td>6.673519</td>\n",
       "      <td>0.848113</td>\n",
       "      <td>2.314384</td>\n",
       "    </tr>\n",
       "    <tr>\n",
       "      <th>202</th>\n",
       "      <td>4.614912</td>\n",
       "      <td>0.239553</td>\n",
       "      <td>0.559649</td>\n",
       "      <td>0.634208</td>\n",
       "      <td>1.501981</td>\n",
       "      <td>1.382186</td>\n",
       "      <td>0.000000</td>\n",
       "      <td>0.053571</td>\n",
       "      <td>0.134661</td>\n",
       "      <td>0.109103</td>\n",
       "      <td>4452557</td>\n",
       "      <td>10070.921770</td>\n",
       "      <td>19820</td>\n",
       "      <td>Detroit, MI</td>\n",
       "      <td>442.120106</td>\n",
       "      <td>6.648609</td>\n",
       "      <td>0.664163</td>\n",
       "      <td>2.645540</td>\n",
       "    </tr>\n",
       "    <tr>\n",
       "      <th>103</th>\n",
       "      <td>3.231976</td>\n",
       "      <td>0.292195</td>\n",
       "      <td>0.505312</td>\n",
       "      <td>0.682576</td>\n",
       "      <td>0.424602</td>\n",
       "      <td>1.071666</td>\n",
       "      <td>0.000000</td>\n",
       "      <td>0.041933</td>\n",
       "      <td>0.105406</td>\n",
       "      <td>0.108286</td>\n",
       "      <td>4391344</td>\n",
       "      <td>9032.348482</td>\n",
       "      <td>14460</td>\n",
       "      <td>Boston, MA-NH</td>\n",
       "      <td>486.179647</td>\n",
       "      <td>6.642597</td>\n",
       "      <td>0.509468</td>\n",
       "      <td>2.686797</td>\n",
       "    </tr>\n",
       "  </tbody>\n",
       "</table>\n",
       "</div>"
      ],
      "text/plain": [
       "        Total  Commercial  Industrial  Residential  Electricity Prod  \\\n",
       "22   2.407797    0.267478    0.062540     0.526058          0.493625   \n",
       "12   2.154786    0.043950    0.435135     0.202748          0.192595   \n",
       "225  5.267402    0.297917    1.265312     0.586536          1.463000   \n",
       "86   3.082175    0.304719    0.518272     0.511665          0.464981   \n",
       "98   3.175412    0.228501    0.375614     0.169591          0.463891   \n",
       "30   2.543012    0.054800    0.254771     0.035435          0.572940   \n",
       "132  3.631378    0.224571    0.194456     0.353612          1.216181   \n",
       "258  7.048771    0.204488    2.845313     0.146019          2.165567   \n",
       "202  4.614912    0.239553    0.559649     0.634208          1.501981   \n",
       "103  3.231976    0.292195    0.505312     0.682576          0.424602   \n",
       "\n",
       "       Onroad    Cement  Aircraft  Airborne   Nonroad   POP2000       ALAND10  \\\n",
       "22   0.859972  0.000000  0.029102  0.073154  0.095868  18944519  21481.919090   \n",
       "12   1.013999  0.000000  0.046903  0.117899  0.101556  12365627  12557.430730   \n",
       "225  1.079102  0.000000  0.127316  0.320031  0.128187   9098316  18639.638970   \n",
       "86   1.059529  0.000000  0.034789  0.087448  0.100773   5687147  11919.387230   \n",
       "98   1.354111  0.160405  0.074368  0.186938  0.161992   5161544  23122.123420   \n",
       "30   1.204436  0.070448  0.059688  0.150037  0.140456   5007564  13150.053280   \n",
       "132  1.330886  0.007450  0.049505  0.124439  0.130278   4796183  14499.580790   \n",
       "258  1.318271  0.000000  0.058591  0.147279  0.163244   4715407  22863.087520   \n",
       "202  1.382186  0.000000  0.053571  0.134661  0.109103   4452557  10070.921770   \n",
       "103  1.071666  0.000000  0.041933  0.105406  0.108286   4391344   9032.348482   \n",
       "\n",
       "     MSA Code                   MSA Name     Density    POPlog    Totlog  \\\n",
       "22      35620         New York, NY-NJ-PA  881.882057  7.277484  0.381620   \n",
       "12      31100            Los Angeles, CA  984.725878  7.092216  0.333404   \n",
       "225     16980          Chicago, IL-IN-WI  488.116536  6.958961  0.721596   \n",
       "86      37980  Philadelphia, PA-NJ-DE-MD  477.134176  6.754894  0.488857   \n",
       "98      19100                 Dallas, TX  223.229671  6.712780  0.501800   \n",
       "30      33100                  Miami, FL  380.801803  6.699627  0.405348   \n",
       "132     47900    Washington, DC-VA-MD-WV  330.780804  6.680896  0.560071   \n",
       "258     26420                Houston, TX  206.245416  6.673519  0.848113   \n",
       "202     19820                Detroit, MI  442.120106  6.648609  0.664163   \n",
       "103     14460              Boston, MA-NH  486.179647  6.642597  0.509468   \n",
       "\n",
       "         Dlog  \n",
       "22   2.945411  \n",
       "12   2.993315  \n",
       "225  2.688524  \n",
       "86   2.678641  \n",
       "98   2.348752  \n",
       "30   2.580699  \n",
       "132  2.519540  \n",
       "258  2.314384  \n",
       "202  2.645540  \n",
       "103  2.686797  "
      ]
     },
     "execution_count": 6,
     "metadata": {},
     "output_type": "execute_result"
    }
   ],
   "source": [
    "df = df.sort(['POP2000'],ascending=False)\n",
    "df.head(10)"
   ]
  },
  {
   "cell_type": "code",
   "execution_count": 7,
   "metadata": {
    "collapsed": false
   },
   "outputs": [
    {
     "data": {
      "text/html": [
       "<iframe id=\"igraph\" scrolling=\"no\" style=\"border:none;\"seamless=\"seamless\" src=\"https://plot.ly/~fanshi118/62.embed\" height=\"525px\" width=\"100%\"></iframe>"
      ],
      "text/plain": [
       "<plotly.tools.PlotlyDisplay object>"
      ]
     },
     "execution_count": 7,
     "metadata": {},
     "output_type": "execute_result"
    }
   ],
   "source": [
    "trace1 = Bar(\n",
    "        x=df.head(10)['MSA Name'].tolist(),\n",
    "        y=df.head(10)['Industrial'].tolist(),\n",
    "        name='Industrial'\n",
    "    )\n",
    "trace2 = Bar(\n",
    "        x=df.head(10)['MSA Name'].tolist(),\n",
    "        y=df.head(10)['Electricity Prod'].tolist(),\n",
    "        name='Electricity Production'\n",
    "    )\n",
    "trace3 = Bar(\n",
    "        x=df.head(10)['MSA Name'].tolist(),\n",
    "        y=df.head(10)['Total'].tolist(),\n",
    "        name='Others'\n",
    "    )\n",
    "\n",
    "#data = [trace1,trace2,trace3]\n",
    "data = [trace3]\n",
    "\n",
    "layout = Layout(\n",
    "    title='Per capita carbon emissions vs Most populous MSAs',\n",
    "    yaxis=YAxis(title='Per capita carbon emissions (tons/person)'),\n",
    "    barmode='stack'\n",
    ")\n",
    "\n",
    "fig = Figure(data=data, layout=layout)\n",
    "\n",
    "py.iplot(fig, filename='Most populous MSAs')"
   ]
  },
  {
   "cell_type": "code",
   "execution_count": 14,
   "metadata": {
    "collapsed": false
   },
   "outputs": [
    {
     "data": {
      "text/html": [
       "<div>\n",
       "<table border=\"1\" class=\"dataframe\">\n",
       "  <thead>\n",
       "    <tr style=\"text-align: right;\">\n",
       "      <th></th>\n",
       "      <th>Total</th>\n",
       "      <th>Commercial</th>\n",
       "      <th>Industrial</th>\n",
       "      <th>Residential</th>\n",
       "      <th>Electricity Prod</th>\n",
       "      <th>Onroad</th>\n",
       "      <th>Cement</th>\n",
       "      <th>Aircraft</th>\n",
       "      <th>Airborne</th>\n",
       "      <th>Nonroad</th>\n",
       "      <th>POP2000</th>\n",
       "      <th>ALAND10</th>\n",
       "      <th>MSA Code</th>\n",
       "      <th>MSA Name</th>\n",
       "      <th>Density</th>\n",
       "      <th>POPlog</th>\n",
       "      <th>Totlog</th>\n",
       "      <th>Dlog</th>\n",
       "      <th>Ptotal</th>\n",
       "    </tr>\n",
       "  </thead>\n",
       "  <tbody>\n",
       "    <tr>\n",
       "      <th>150</th>\n",
       "      <td>3.805734</td>\n",
       "      <td>0.223738</td>\n",
       "      <td>1.473867</td>\n",
       "      <td>0.477148</td>\n",
       "      <td>0.000000</td>\n",
       "      <td>1.304254</td>\n",
       "      <td>0</td>\n",
       "      <td>0.033889</td>\n",
       "      <td>0.085187</td>\n",
       "      <td>0.207651</td>\n",
       "      <td>101541</td>\n",
       "      <td>1433.810709</td>\n",
       "      <td>29020</td>\n",
       "      <td>Kokomo, IN</td>\n",
       "      <td>70.818972</td>\n",
       "      <td>5.006641</td>\n",
       "      <td>0.580438</td>\n",
       "      <td>1.850150</td>\n",
       "      <td>2.331868</td>\n",
       "    </tr>\n",
       "    <tr>\n",
       "      <th>57</th>\n",
       "      <td>2.792020</td>\n",
       "      <td>0.256775</td>\n",
       "      <td>0.575865</td>\n",
       "      <td>0.363562</td>\n",
       "      <td>0.000000</td>\n",
       "      <td>1.177999</td>\n",
       "      <td>0</td>\n",
       "      <td>0.053050</td>\n",
       "      <td>0.133350</td>\n",
       "      <td>0.231418</td>\n",
       "      <td>101677</td>\n",
       "      <td>7665.271805</td>\n",
       "      <td>26820</td>\n",
       "      <td>Idaho Falls, ID</td>\n",
       "      <td>13.264631</td>\n",
       "      <td>5.007223</td>\n",
       "      <td>0.445918</td>\n",
       "      <td>1.122695</td>\n",
       "      <td>2.216155</td>\n",
       "    </tr>\n",
       "    <tr>\n",
       "      <th>84</th>\n",
       "      <td>3.044257</td>\n",
       "      <td>0.441649</td>\n",
       "      <td>0.442323</td>\n",
       "      <td>0.511720</td>\n",
       "      <td>0.000000</td>\n",
       "      <td>1.501378</td>\n",
       "      <td>0</td>\n",
       "      <td>0.016155</td>\n",
       "      <td>0.040610</td>\n",
       "      <td>0.090423</td>\n",
       "      <td>102008</td>\n",
       "      <td>1947.638700</td>\n",
       "      <td>19060</td>\n",
       "      <td>Cumberland, MD-WV</td>\n",
       "      <td>52.375217</td>\n",
       "      <td>5.008634</td>\n",
       "      <td>0.483481</td>\n",
       "      <td>1.719126</td>\n",
       "      <td>2.601934</td>\n",
       "    </tr>\n",
       "    <tr>\n",
       "      <th>249</th>\n",
       "      <td>6.560672</td>\n",
       "      <td>0.313092</td>\n",
       "      <td>0.016297</td>\n",
       "      <td>0.523088</td>\n",
       "      <td>3.817787</td>\n",
       "      <td>1.243711</td>\n",
       "      <td>0</td>\n",
       "      <td>0.062261</td>\n",
       "      <td>0.156504</td>\n",
       "      <td>0.427930</td>\n",
       "      <td>102326</td>\n",
       "      <td>651.187425</td>\n",
       "      <td>36140</td>\n",
       "      <td>Ocean City, NJ</td>\n",
       "      <td>157.137555</td>\n",
       "      <td>5.009986</td>\n",
       "      <td>0.816948</td>\n",
       "      <td>2.196280</td>\n",
       "      <td>2.726588</td>\n",
       "    </tr>\n",
       "    <tr>\n",
       "      <th>120</th>\n",
       "      <td>3.413882</td>\n",
       "      <td>0.379969</td>\n",
       "      <td>0.177677</td>\n",
       "      <td>0.612762</td>\n",
       "      <td>0.001560</td>\n",
       "      <td>1.469783</td>\n",
       "      <td>0</td>\n",
       "      <td>0.163279</td>\n",
       "      <td>0.410432</td>\n",
       "      <td>0.198421</td>\n",
       "      <td>102720</td>\n",
       "      <td>4735.682658</td>\n",
       "      <td>30860</td>\n",
       "      <td>Logan, UT-ID</td>\n",
       "      <td>21.690643</td>\n",
       "      <td>5.011655</td>\n",
       "      <td>0.533248</td>\n",
       "      <td>1.336272</td>\n",
       "      <td>3.234645</td>\n",
       "    </tr>\n",
       "    <tr>\n",
       "      <th>302</th>\n",
       "      <td>13.690719</td>\n",
       "      <td>0.268852</td>\n",
       "      <td>10.608833</td>\n",
       "      <td>0.333537</td>\n",
       "      <td>0.070221</td>\n",
       "      <td>1.754540</td>\n",
       "      <td>0</td>\n",
       "      <td>0.135977</td>\n",
       "      <td>0.341804</td>\n",
       "      <td>0.176955</td>\n",
       "      <td>102979</td>\n",
       "      <td>4483.794950</td>\n",
       "      <td>34580</td>\n",
       "      <td>Mount Vernon, WA</td>\n",
       "      <td>22.966929</td>\n",
       "      <td>5.012749</td>\n",
       "      <td>1.136426</td>\n",
       "      <td>1.361103</td>\n",
       "      <td>3.011665</td>\n",
       "    </tr>\n",
       "    <tr>\n",
       "      <th>211</th>\n",
       "      <td>4.793644</td>\n",
       "      <td>0.126705</td>\n",
       "      <td>1.858962</td>\n",
       "      <td>0.277428</td>\n",
       "      <td>0.015395</td>\n",
       "      <td>1.954512</td>\n",
       "      <td>0</td>\n",
       "      <td>0.064720</td>\n",
       "      <td>0.162686</td>\n",
       "      <td>0.333236</td>\n",
       "      <td>102997</td>\n",
       "      <td>2753.098886</td>\n",
       "      <td>49020</td>\n",
       "      <td>Winchester, VA-WV</td>\n",
       "      <td>37.411297</td>\n",
       "      <td>5.012825</td>\n",
       "      <td>0.680666</td>\n",
       "      <td>1.573003</td>\n",
       "      <td>2.919287</td>\n",
       "    </tr>\n",
       "    <tr>\n",
       "      <th>170</th>\n",
       "      <td>4.083936</td>\n",
       "      <td>0.104319</td>\n",
       "      <td>0.156034</td>\n",
       "      <td>0.235289</td>\n",
       "      <td>1.778262</td>\n",
       "      <td>1.628883</td>\n",
       "      <td>0</td>\n",
       "      <td>0.027055</td>\n",
       "      <td>0.068008</td>\n",
       "      <td>0.086085</td>\n",
       "      <td>103459</td>\n",
       "      <td>1385.618994</td>\n",
       "      <td>23460</td>\n",
       "      <td>Gadsden, AL</td>\n",
       "      <td>74.666269</td>\n",
       "      <td>5.014768</td>\n",
       "      <td>0.611079</td>\n",
       "      <td>1.873124</td>\n",
       "      <td>2.149640</td>\n",
       "    </tr>\n",
       "    <tr>\n",
       "      <th>82</th>\n",
       "      <td>3.025382</td>\n",
       "      <td>0.379107</td>\n",
       "      <td>0.283703</td>\n",
       "      <td>0.829976</td>\n",
       "      <td>0.000016</td>\n",
       "      <td>1.188443</td>\n",
       "      <td>0</td>\n",
       "      <td>0.066828</td>\n",
       "      <td>0.167983</td>\n",
       "      <td>0.109325</td>\n",
       "      <td>103793</td>\n",
       "      <td>1211.926439</td>\n",
       "      <td>30340</td>\n",
       "      <td>Lewiston, ME</td>\n",
       "      <td>85.642987</td>\n",
       "      <td>5.016168</td>\n",
       "      <td>0.480780</td>\n",
       "      <td>1.932692</td>\n",
       "      <td>2.741663</td>\n",
       "    </tr>\n",
       "    <tr>\n",
       "      <th>133</th>\n",
       "      <td>3.640805</td>\n",
       "      <td>0.230810</td>\n",
       "      <td>0.929069</td>\n",
       "      <td>0.587875</td>\n",
       "      <td>0.034409</td>\n",
       "      <td>1.290945</td>\n",
       "      <td>0</td>\n",
       "      <td>0.097566</td>\n",
       "      <td>0.245251</td>\n",
       "      <td>0.224881</td>\n",
       "      <td>103833</td>\n",
       "      <td>1752.271023</td>\n",
       "      <td>28100</td>\n",
       "      <td>Kankakee, IL</td>\n",
       "      <td>59.256244</td>\n",
       "      <td>5.016335</td>\n",
       "      <td>0.561197</td>\n",
       "      <td>1.772734</td>\n",
       "      <td>2.677328</td>\n",
       "    </tr>\n",
       "  </tbody>\n",
       "</table>\n",
       "</div>"
      ],
      "text/plain": [
       "         Total  Commercial  Industrial  Residential  Electricity Prod  \\\n",
       "150   3.805734    0.223738    1.473867     0.477148          0.000000   \n",
       "57    2.792020    0.256775    0.575865     0.363562          0.000000   \n",
       "84    3.044257    0.441649    0.442323     0.511720          0.000000   \n",
       "249   6.560672    0.313092    0.016297     0.523088          3.817787   \n",
       "120   3.413882    0.379969    0.177677     0.612762          0.001560   \n",
       "302  13.690719    0.268852   10.608833     0.333537          0.070221   \n",
       "211   4.793644    0.126705    1.858962     0.277428          0.015395   \n",
       "170   4.083936    0.104319    0.156034     0.235289          1.778262   \n",
       "82    3.025382    0.379107    0.283703     0.829976          0.000016   \n",
       "133   3.640805    0.230810    0.929069     0.587875          0.034409   \n",
       "\n",
       "       Onroad  Cement  Aircraft  Airborne   Nonroad  POP2000      ALAND10  \\\n",
       "150  1.304254       0  0.033889  0.085187  0.207651   101541  1433.810709   \n",
       "57   1.177999       0  0.053050  0.133350  0.231418   101677  7665.271805   \n",
       "84   1.501378       0  0.016155  0.040610  0.090423   102008  1947.638700   \n",
       "249  1.243711       0  0.062261  0.156504  0.427930   102326   651.187425   \n",
       "120  1.469783       0  0.163279  0.410432  0.198421   102720  4735.682658   \n",
       "302  1.754540       0  0.135977  0.341804  0.176955   102979  4483.794950   \n",
       "211  1.954512       0  0.064720  0.162686  0.333236   102997  2753.098886   \n",
       "170  1.628883       0  0.027055  0.068008  0.086085   103459  1385.618994   \n",
       "82   1.188443       0  0.066828  0.167983  0.109325   103793  1211.926439   \n",
       "133  1.290945       0  0.097566  0.245251  0.224881   103833  1752.271023   \n",
       "\n",
       "     MSA Code           MSA Name     Density    POPlog    Totlog      Dlog  \\\n",
       "150     29020         Kokomo, IN   70.818972  5.006641  0.580438  1.850150   \n",
       "57      26820    Idaho Falls, ID   13.264631  5.007223  0.445918  1.122695   \n",
       "84      19060  Cumberland, MD-WV   52.375217  5.008634  0.483481  1.719126   \n",
       "249     36140     Ocean City, NJ  157.137555  5.009986  0.816948  2.196280   \n",
       "120     30860       Logan, UT-ID   21.690643  5.011655  0.533248  1.336272   \n",
       "302     34580   Mount Vernon, WA   22.966929  5.012749  1.136426  1.361103   \n",
       "211     49020  Winchester, VA-WV   37.411297  5.012825  0.680666  1.573003   \n",
       "170     23460        Gadsden, AL   74.666269  5.014768  0.611079  1.873124   \n",
       "82      30340       Lewiston, ME   85.642987  5.016168  0.480780  1.932692   \n",
       "133     28100       Kankakee, IL   59.256244  5.016335  0.561197  1.772734   \n",
       "\n",
       "       Ptotal  \n",
       "150  2.331868  \n",
       "57   2.216155  \n",
       "84   2.601934  \n",
       "249  2.726588  \n",
       "120  3.234645  \n",
       "302  3.011665  \n",
       "211  2.919287  \n",
       "170  2.149640  \n",
       "82   2.741663  \n",
       "133  2.677328  "
      ]
     },
     "execution_count": 14,
     "metadata": {},
     "output_type": "execute_result"
    }
   ],
   "source": [
    "df = df.sort(['POP2000'])\n",
    "df.head(10)"
   ]
  },
  {
   "cell_type": "code",
   "execution_count": 15,
   "metadata": {
    "collapsed": false
   },
   "outputs": [
    {
     "data": {
      "text/html": [
       "<iframe id=\"igraph\" scrolling=\"no\" style=\"border:none;\"seamless=\"seamless\" src=\"https://plot.ly/~fanshi118/64.embed\" height=\"525px\" width=\"100%\"></iframe>"
      ],
      "text/plain": [
       "<plotly.tools.PlotlyDisplay object>"
      ]
     },
     "execution_count": 15,
     "metadata": {},
     "output_type": "execute_result"
    }
   ],
   "source": [
    "trace1 = Bar(\n",
    "        x=df.head(10)['MSA Name'].tolist(),\n",
    "        y=df.head(10)['Industrial'].tolist(),\n",
    "        name='Industrial'\n",
    "    )\n",
    "trace2 = Bar(\n",
    "        x=df.head(10)['MSA Name'].tolist(),\n",
    "        y=df.head(10)['Electricity Prod'].tolist(),\n",
    "        name='Electricity Production'\n",
    "    )\n",
    "trace3 = Bar(\n",
    "        x=df.head(10)['MSA Name'].tolist(),\n",
    "        y=df.head(10)['Ptotal'].tolist(),\n",
    "        name='Others'\n",
    "    )\n",
    "\n",
    "data = [trace1,trace2,trace3]\n",
    "\n",
    "layout = Layout(\n",
    "    title='Per capita carbon emissions vs Least populous MSAs',\n",
    "    yaxis=YAxis(title='Per capita carbon emissions (tons/person)'),\n",
    "    barmode='stack'\n",
    ")\n",
    "\n",
    "fig = Figure(data=data, layout=layout)\n",
    "\n",
    "py.iplot(fig, filename='Least populous MSAs')"
   ]
  },
  {
   "cell_type": "code",
   "execution_count": 8,
   "metadata": {
    "collapsed": false
   },
   "outputs": [
    {
     "data": {
      "text/html": [
       "<iframe id=\"igraph\" scrolling=\"no\" style=\"border:none;\"seamless=\"seamless\" src=\"https://plot.ly/~fanshi118/66.embed\" height=\"525px\" width=\"100%\"></iframe>"
      ],
      "text/plain": [
       "<plotly.tools.PlotlyDisplay object>"
      ]
     },
     "execution_count": 8,
     "metadata": {},
     "output_type": "execute_result"
    }
   ],
   "source": [
    "df = df.sort(['Density'],ascending=False)\n",
    "trace1 = Bar(\n",
    "        x=df.head(10)['MSA Name'].tolist(),\n",
    "        y=df.head(10)['Industrial'].tolist(),\n",
    "        name='Industrial'\n",
    "    )\n",
    "trace2 = Bar(\n",
    "        x=df.head(10)['MSA Name'].tolist(),\n",
    "        y=df.head(10)['Electricity Prod'].tolist(),\n",
    "        name='Electricity Production'\n",
    "    )\n",
    "trace3 = Bar(\n",
    "        x=df.head(10)['MSA Name'].tolist(),\n",
    "        y=df.head(10)['Total'].tolist(),\n",
    "        name='Others'\n",
    "    )\n",
    "\n",
    "#data = [trace1,trace2,trace3]\n",
    "data = [trace3]\n",
    "\n",
    "layout = Layout(\n",
    "    title='Per capita carbon emissions vs Most dense MSAs',\n",
    "    yaxis=YAxis(title='Per capita carbon emissions (tons/person)'),\n",
    "    barmode='stack'\n",
    ")\n",
    "\n",
    "fig = Figure(data=data, layout=layout)\n",
    "\n",
    "py.iplot(fig, filename='Most dense MSAs')"
   ]
  },
  {
   "cell_type": "code",
   "execution_count": 17,
   "metadata": {
    "collapsed": false
   },
   "outputs": [
    {
     "data": {
      "text/html": [
       "<iframe id=\"igraph\" scrolling=\"no\" style=\"border:none;\"seamless=\"seamless\" src=\"https://plot.ly/~fanshi118/68.embed\" height=\"525px\" width=\"100%\"></iframe>"
      ],
      "text/plain": [
       "<plotly.tools.PlotlyDisplay object>"
      ]
     },
     "execution_count": 17,
     "metadata": {},
     "output_type": "execute_result"
    }
   ],
   "source": [
    "df = df.sort(['Density'])\n",
    "trace1 = Bar(\n",
    "        x=df.head(10)['MSA Name'].tolist(),\n",
    "        y=df.head(10)['Industrial'].tolist(),\n",
    "        name='Industrial'\n",
    "    )\n",
    "trace2 = Bar(\n",
    "        x=df.head(10)['MSA Name'].tolist(),\n",
    "        y=df.head(10)['Electricity Prod'].tolist(),\n",
    "        name='Electricity Production'\n",
    "    )\n",
    "trace3 = Bar(\n",
    "        x=df.head(10)['MSA Name'].tolist(),\n",
    "        y=df.head(10)['Ptotal'].tolist(),\n",
    "        name='Others'\n",
    "    )\n",
    "\n",
    "data = [trace1,trace2,trace3]\n",
    "\n",
    "layout = Layout(\n",
    "    title='Per capita carbon emissions vs Least dense MSAs',\n",
    "    yaxis=YAxis(title='Per capita carbon emissions (tons/person)'),\n",
    "    barmode='stack'\n",
    ")\n",
    "\n",
    "fig = Figure(data=data, layout=layout)\n",
    "\n",
    "py.iplot(fig, filename='Least dense MSAs')"
   ]
  },
  {
   "cell_type": "code",
   "execution_count": 18,
   "metadata": {
    "collapsed": false
   },
   "outputs": [
    {
     "data": {
      "text/html": [
       "<iframe id=\"igraph\" scrolling=\"no\" style=\"border:none;\"seamless=\"seamless\" src=\"https://plot.ly/~fanshi118/70.embed\" height=\"525px\" width=\"100%\"></iframe>"
      ],
      "text/plain": [
       "<plotly.tools.PlotlyDisplay object>"
      ]
     },
     "execution_count": 18,
     "metadata": {},
     "output_type": "execute_result"
    }
   ],
   "source": [
    "df = df.sort(['Total'],ascending=False)\n",
    "trace1 = Bar(\n",
    "        x=df.head(10)['MSA Name'].tolist(),\n",
    "        y=df.head(10)['Total'].tolist(),\n",
    "        name='Per capita carbon emissions'\n",
    "    )\n",
    "trace2 = Bar(\n",
    "        x=df.head(10)['MSA Name'].tolist(),\n",
    "        y=df.head(10)['POPlog'].tolist(),\n",
    "        name='Population (log10)'\n",
    "    )\n",
    "trace3 = Bar(\n",
    "        x=df.head(10)['MSA Name'].tolist(),\n",
    "        y=df.head(10)['Dlog'].tolist(),\n",
    "        name='Density (log10)'\n",
    "    )\n",
    "\n",
    "data = [trace1,trace2,trace3]\n",
    "\n",
    "layout = Layout(\n",
    "    title='MSAs with most per capita carbon emissions',\n",
    "    yaxis=YAxis(title='Per capita carbon emissions (tons/person)'),\n",
    "    barmode='group'\n",
    ")\n",
    "\n",
    "fig = Figure(data=data, layout=layout)\n",
    "\n",
    "py.iplot(fig, filename='Most MSAs +')"
   ]
  },
  {
   "cell_type": "code",
   "execution_count": 19,
   "metadata": {
    "collapsed": false
   },
   "outputs": [
    {
     "data": {
      "text/html": [
       "<iframe id=\"igraph\" scrolling=\"no\" style=\"border:none;\"seamless=\"seamless\" src=\"https://plot.ly/~fanshi118/72.embed\" height=\"525px\" width=\"100%\"></iframe>"
      ],
      "text/plain": [
       "<plotly.tools.PlotlyDisplay object>"
      ]
     },
     "execution_count": 19,
     "metadata": {},
     "output_type": "execute_result"
    }
   ],
   "source": [
    "df = df.sort(['Total'])\n",
    "trace1 = Bar(\n",
    "        x=df.head(10)['MSA Name'].tolist(),\n",
    "        y=df.head(10)['Total'].tolist(),\n",
    "        name='Per capita carbon emissions'\n",
    "    )\n",
    "trace2 = Bar(\n",
    "        x=df.head(10)['MSA Name'].tolist(),\n",
    "        y=df.head(10)['POPlog'].tolist(),\n",
    "        name='Population (log10)'\n",
    "    )\n",
    "trace3 = Bar(\n",
    "        x=df.head(10)['MSA Name'].tolist(),\n",
    "        y=df.head(10)['Dlog'].tolist(),\n",
    "        name='Density (log10)'\n",
    "    )\n",
    "\n",
    "data = [trace1,trace2,trace3]\n",
    "\n",
    "layout = Layout(\n",
    "    title='MSAs with least per capita carbon emissions',\n",
    "    yaxis=YAxis(title='Per capita carbon emissions (tons/person)'),\n",
    "    barmode='group'\n",
    ")\n",
    "\n",
    "fig = Figure(data=data, layout=layout)\n",
    "\n",
    "py.iplot(fig, filename='Least MSAs +')"
   ]
  },
  {
   "cell_type": "code",
   "execution_count": 4,
   "metadata": {
    "collapsed": false
   },
   "outputs": [
    {
     "name": "stdout",
     "output_type": "stream",
     "text": [
      "Mean of population: 691318.50\n",
      "Mean of density: 107.57\n",
      "Median of population: 249700.00\n",
      "Median of population: 71.53\n"
     ]
    }
   ],
   "source": [
    "print 'Mean of population: %.2f' % (np.mean(df['POP2000']))\n",
    "print 'Mean of density: %.2f' % (np.mean(df['Density']))\n",
    "print 'Median of population: %.2f' % (np.median(df['POP2000']))\n",
    "print 'Median of population: %.2f' % (np.median(df['Density']))"
   ]
  },
  {
   "cell_type": "code",
   "execution_count": 4,
   "metadata": {
    "collapsed": false
   },
   "outputs": [
    {
     "data": {
      "text/plain": [
       "Total                    3.033724\n",
       "Commercial               0.215886\n",
       "Industrial               0.429273\n",
       "Residential              0.345059\n",
       "Electricity Prod         0.228205\n",
       "Onroad                   1.412499\n",
       "Cement                   0.022177\n",
       "Aircraft                 0.062055\n",
       "Airborne                 0.157705\n",
       "Nonroad                  0.160864\n",
       "POP2000             818012.018072\n",
       "ALAND10               6429.458191\n",
       "MSA Code             30791.566265\n",
       "Density                123.666959\n",
       "POPlog                   5.537610\n",
       "Totlog                   0.474036\n",
       "Dlog                     1.914150\n",
       "dtype: float64"
      ]
     },
     "execution_count": 4,
     "metadata": {},
     "output_type": "execute_result"
    }
   ],
   "source": [
    "medt = np.median(df['Total'])\n",
    "np.mean(df[df['Total']<medt])"
   ]
  },
  {
   "cell_type": "code",
   "execution_count": 8,
   "metadata": {
    "collapsed": false
   },
   "outputs": [
    {
     "name": "stdout",
     "output_type": "stream",
     "text": [
      "Mean of population for less emission areas: 818012.02\n",
      "Mean of population for less emission areas: 123.67\n",
      "Median of population for less emission areas: 264441.00\n",
      "Median of density for less emission areas: 85.62\n"
     ]
    }
   ],
   "source": [
    "print 'Mean of population for less emission areas: %.2f' % (np.mean(df[df['Total']<medt]['POP2000']))\n",
    "print 'Mean of population for less emission areas: %.2f' % (np.mean(df[df['Total']<medt]['Density']))\n",
    "print 'Median of population for less emission areas: %.2f' % (np.median(df[df['Total']<medt]['POP2000']))\n",
    "print 'Median of density for less emission areas: %.2f' % (np.median(df[df['Total']<medt]['Density']))"
   ]
  },
  {
   "cell_type": "code",
   "execution_count": 13,
   "metadata": {
    "collapsed": false
   },
   "outputs": [
    {
     "data": {
      "text/html": [
       "<iframe id=\"igraph\" scrolling=\"no\" style=\"border:none;\"seamless=\"seamless\" src=\"https://plot.ly/~fanshi118/74.embed\" height=\"525px\" width=\"100%\"></iframe>"
      ],
      "text/plain": [
       "<plotly.tools.PlotlyDisplay object>"
      ]
     },
     "execution_count": 13,
     "metadata": {},
     "output_type": "execute_result"
    }
   ],
   "source": [
    "trace1 = Bar(\n",
    "        x=['Population Mean (log10)','Population Median (log10)','Density Mean (log10)','Density Median (log10)'],\n",
    "        y=[np.mean(df['POPlog']),np.median(df['POPlog']),\n",
    "          np.mean(df['Dlog']),np.median(df['Dlog'])],\n",
    "        name='All MSAs'\n",
    "    )\n",
    "trace2 = Bar(\n",
    "        x=['Population Mean (log10)','Population Median (log10)','Density Mean (log10)','Density Median (log10)'],\n",
    "        y=[np.mean(df[df['Total']<medt]['POPlog']),np.median(df[df['Total']<medt]['POPlog']),\n",
    "          np.mean(df[df['Total']<medt]['Dlog']),np.median(df[df['Total']<medt]['Dlog'])],\n",
    "        name='MSAs w/ less emissions'\n",
    "    )\n",
    "\n",
    "data = [trace1,trace2]\n",
    "\n",
    "layout = Layout(\n",
    "    title='MSAs with less per capita carbon emissions vs all MSAs',\n",
    "    yaxis=YAxis(title='Population and population density'),\n",
    "    barmode='group'\n",
    ")\n",
    "\n",
    "fig = Figure(data=data, layout=layout)\n",
    "\n",
    "py.iplot(fig, filename='Mean and median')"
   ]
  },
  {
   "cell_type": "code",
   "execution_count": 8,
   "metadata": {
    "collapsed": false
   },
   "outputs": [
    {
     "data": {
      "text/html": [
       "<iframe id=\"igraph\" scrolling=\"no\" style=\"border:none;\"seamless=\"seamless\" src=\"https://plot.ly/~fanshi118/83.embed\" height=\"525px\" width=\"100%\"></iframe>"
      ],
      "text/plain": [
       "<plotly.tools.PlotlyDisplay object>"
      ]
     },
     "execution_count": 8,
     "metadata": {},
     "output_type": "execute_result"
    }
   ],
   "source": [
    "trace1 = Bar(\n",
    "        x=['Population Mean','Population Median'],\n",
    "        y=[np.mean(df['POP2000']),np.median(df['POP2000'])],\n",
    "        name='All MSAs'\n",
    "    )\n",
    "trace2 = Bar(\n",
    "        x=['Population Mean','Population Median'],\n",
    "        y=[np.mean(df[df['Total']<medt]['POP2000']),np.median(df[df['Total']<medt]['POP2000'])],\n",
    "        name='MSAs w/ less emissions'\n",
    "    )\n",
    "\n",
    "data = [trace1,trace2]\n",
    "\n",
    "layout = Layout(\n",
    "    title='MSAs with less per capita carbon emissions vs all MSAs',\n",
    "    yaxis=YAxis(title='Population'),\n",
    "    barmode='group'\n",
    ")\n",
    "\n",
    "fig = Figure(data=data, layout=layout)\n",
    "\n",
    "py.iplot(fig, filename='Popoulation mean and median')"
   ]
  },
  {
   "cell_type": "code",
   "execution_count": 9,
   "metadata": {
    "collapsed": false
   },
   "outputs": [
    {
     "data": {
      "text/html": [
       "<iframe id=\"igraph\" scrolling=\"no\" style=\"border:none;\"seamless=\"seamless\" src=\"https://plot.ly/~fanshi118/85.embed\" height=\"525px\" width=\"100%\"></iframe>"
      ],
      "text/plain": [
       "<plotly.tools.PlotlyDisplay object>"
      ]
     },
     "execution_count": 9,
     "metadata": {},
     "output_type": "execute_result"
    }
   ],
   "source": [
    "trace1 = Bar(\n",
    "        x=['Density Mean','Density Median'],\n",
    "        y=[np.mean(df['Density']),np.median(df['Density'])],\n",
    "        name='All MSAs'\n",
    "    )\n",
    "trace2 = Bar(\n",
    "        x=['Density Mean','Density Median'],\n",
    "        y=[np.mean(df[df['Total']<medt]['Density']),np.median(df[df['Total']<medt]['Density'])],\n",
    "        name='MSAs w/ less emissions'\n",
    "    )\n",
    "\n",
    "data = [trace1,trace2]\n",
    "\n",
    "layout = Layout(\n",
    "    title='MSAs with less per capita carbon emissions vs all MSAs',\n",
    "    yaxis=YAxis(title='Population density (persons/km^2)'),\n",
    "    barmode='group'\n",
    ")\n",
    "\n",
    "fig = Figure(data=data, layout=layout)\n",
    "\n",
    "py.iplot(fig, filename='Density mean and median')"
   ]
  },
  {
   "cell_type": "code",
   "execution_count": null,
   "metadata": {
    "collapsed": true
   },
   "outputs": [],
   "source": []
  }
 ],
 "metadata": {
  "kernelspec": {
   "display_name": "Python 2",
   "language": "python",
   "name": "python2"
  },
  "language_info": {
   "codemirror_mode": {
    "name": "ipython",
    "version": 2
   },
   "file_extension": ".py",
   "mimetype": "text/x-python",
   "name": "python",
   "nbconvert_exporter": "python",
   "pygments_lexer": "ipython2",
   "version": "2.7.10"
  }
 },
 "nbformat": 4,
 "nbformat_minor": 0
}
